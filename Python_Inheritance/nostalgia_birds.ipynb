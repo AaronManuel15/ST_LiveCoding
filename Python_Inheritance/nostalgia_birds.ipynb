{
 "cells": [
  {
   "attachments": {},
   "cell_type": "markdown",
   "metadata": {},
   "source": [
    "## Imports"
   ]
  },
  {
   "cell_type": "code",
   "execution_count": 13,
   "metadata": {},
   "outputs": [],
   "source": [
    "import pygame"
   ]
  },
  {
   "attachments": {},
   "cell_type": "markdown",
   "metadata": {},
   "source": [
    "## Class Declaration"
   ]
  },
  {
   "cell_type": "code",
   "execution_count": 42,
   "metadata": {},
   "outputs": [],
   "source": [
    "# Parent class\n",
    "class Animal:\n",
    "    def __init__(self, name):\n",
    "        self.name = name\n",
    "\n",
    "    def talk(self):\n",
    "        print(f\"{self.name} says 'Hello!'\")\n",
    "\n",
    "# Child class inheriting from Animal\n",
    "class Bird(Animal):\n",
    "    def __init__(self, name, image_file):\n",
    "        super().__init__(name)\n",
    "        self.image = pygame.image.load(image_file)\n",
    "        self.rect = self.image.get_rect()\n",
    "        self.rect.bottom = window_height\n",
    "        self.speed_walk = 3\n",
    "        self.speed_fly = 5\n",
    "        self.is_flying = False\n",
    "        self.is_walking = True\n",
    "\n",
    "    def walk(self):\n",
    "        if self.is_walking:\n",
    "            self.rect.x += self.speed_walk\n",
    "            if self.rect.left > window_width // 2:\n",
    "                self.is_walking = False\n",
    "                self.is_flying = True\n",
    "                # self.rect.left = -self.rect.width\n",
    "                # self.rect.bottom = window_height // 2\n",
    "\n",
    "    def fly(self):\n",
    "        keys = pygame.key.get_pressed()\n",
    "        if keys[pygame.K_UP]:\n",
    "            self.rect.y -= self.speed_fly\n",
    "        if keys[pygame.K_DOWN]:\n",
    "            self.rect.y += self.speed_fly\n",
    "        if keys[pygame.K_LEFT]:\n",
    "            self.rect.x -= self.speed_fly\n",
    "        if keys[pygame.K_RIGHT]:\n",
    "            self.rect.x += self.speed_fly\n",
    "\n",
    "        # Wrap around the screen\n",
    "        if self.rect.left > window_width:\n",
    "            self.rect.right = 0\n",
    "        elif self.rect.right < 0:\n",
    "            self.rect.left = window_width\n",
    "        if self.rect.top > window_height:\n",
    "            self.rect.bottom = 0\n",
    "        elif self.rect.bottom < 0:\n",
    "            self.rect.top = window_height\n",
    "\n",
    "\n",
    "    def draw(self, window):\n",
    "        window.blit(self.image, self.rect)\n",
    "    \n",
    "    def talk(self):\n",
    "        print(f\"{self.name} says 'Hello!'\")\n",
    "\n",
    "# Child class inheriting from Bird\n",
    "class RoadRunner(Bird):\n",
    "    def __init__(self, name, image_file):\n",
    "        super().__init__(name, image_file)\n",
    "        self.speed_walk = 4\n",
    "        self.speed_run = 7\n",
    "    \n",
    "    # Polymorphism\n",
    "    def talk(self):\n",
    "        print(f\"{self.name} says 'Beep Beep!'\")\n",
    "    \n",
    "    # New Method only for RR\n",
    "    def run(self):\n",
    "        self.rect.x += self.speed_run\n",
    "        if self.rect.left > window_width:\n",
    "            self.rect.left = -self.rect.width\n",
    "    \n",
    "    #Polymorphism\n",
    "    def fly(self):\n",
    "        pass\n",
    "\n"
   ]
  },
  {
   "attachments": {},
   "cell_type": "markdown",
   "metadata": {},
   "source": [
    "## Pygame driver"
   ]
  },
  {
   "cell_type": "code",
   "execution_count": 43,
   "metadata": {},
   "outputs": [
    {
     "name": "stdout",
     "output_type": "stream",
     "text": [
      "Flappy says 'Hello!'\n"
     ]
    }
   ],
   "source": [
    "# Initialize Pygame\n",
    "pygame.init()\n",
    "\n",
    "# Set up the game window\n",
    "window_width = 800\n",
    "window_height = 600\n",
    "window = pygame.display.set_mode((window_width, window_height))\n",
    "pygame.display.set_caption(\"Nostalgia Birds\")\n",
    "\n",
    "# Set up colors\n",
    "white = (255, 255, 255)\n",
    "\n",
    "# Create objects\n",
    "bird = Bird(\"Flappy\", \"images/bird_1.png\")\n",
    "roadrunner = RoadRunner(\"Beep-Beep\", \"images/lilroadrunner.png\")\n",
    "\n",
    "# Game loop\n",
    "running = True\n",
    "clock = pygame.time.Clock()\n",
    "bird.talk()\n",
    "while running:\n",
    "    for event in pygame.event.get():\n",
    "        if event.type == pygame.QUIT:\n",
    "            running = False\n",
    "        # Check for key presses\n",
    "        if event.type == pygame.KEYDOWN:\n",
    "            if event.key == pygame.K_SPACE:\n",
    "                bird.is_flying = True\n",
    "            elif event.key == pygame.K_LEFT:\n",
    "                bird.rect.x -= bird.speed_walk\n",
    "            elif event.key == pygame.K_RIGHT:\n",
    "                bird.rect.x += bird.speed_walk\n",
    "\n",
    "    # Clear the screen\n",
    "    window.fill(white)\n",
    "\n",
    "    # Perform actions\n",
    "    bird.walk()\n",
    "    bird.fly()\n",
    "    bird.draw(window)\n",
    "    \n",
    "    # roadrunner.run()\n",
    "    # roadrunner.draw(window)\n",
    "\n",
    "    # Update the display\n",
    "    pygame.display.update()\n",
    "\n",
    "    # Set the frame rate\n",
    "    clock.tick(60)\n",
    "\n",
    "# Quit the game\n",
    "pygame.quit()"
   ]
  },
  {
   "cell_type": "code",
   "execution_count": 26,
   "metadata": {},
   "outputs": [
    {
     "name": "stdout",
     "output_type": "stream",
     "text": [
      "(<class '__main__.RoadRunner'>, <class '__main__.Bird'>, <class '__main__.Animal'>, <class 'object'>)\n"
     ]
    }
   ],
   "source": [
    "\n",
    "print(RoadRunner.__mro__)\n",
    "\n"
   ]
  }
 ],
 "metadata": {
  "kernelspec": {
   "display_name": "Python 3",
   "language": "python",
   "name": "python3"
  },
  "language_info": {
   "codemirror_mode": {
    "name": "ipython",
    "version": 3
   },
   "file_extension": ".py",
   "mimetype": "text/x-python",
   "name": "python",
   "nbconvert_exporter": "python",
   "pygments_lexer": "ipython3",
   "version": "3.8.10"
  },
  "orig_nbformat": 4
 },
 "nbformat": 4,
 "nbformat_minor": 2
}
