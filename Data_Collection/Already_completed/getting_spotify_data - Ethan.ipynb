{
 "cells": [
  {
   "cell_type": "code",
   "execution_count": 1,
   "id": "970335ae",
   "metadata": {},
   "outputs": [
    {
     "name": "stderr",
     "output_type": "stream",
     "text": [
      "Using `localhost` as redirect URI without a port. Specify a port (e.g. `localhost:8080`) to allow automatic retrieval of authentication code instead of having to copy and paste the URL your browser is redirected to.\n"
     ]
    },
    {
     "name": "stdout",
     "output_type": "stream",
     "text": [
      "Enter the URL you were redirected to: http://localhost/?code=AQApM-jTudX86ES08cfCb6MryhCWNZ8cdq4yy_4gj4iRjICmkjcB5hyzklRHReU9XMMNSQhABnhm28ebVAmhBAYJDyMz2mmyZfZJuOC3wXtx9M0VSS49EYqx8k_NlfWEwvhdI-K73fMVuNZydGwzyqpZJ-xDvT4X9211CrOV2SzIj1cAQGDUSg\n"
     ]
    },
    {
     "name": "stderr",
     "output_type": "stream",
     "text": [
      "Fetching tracks:   6%|███▌                                                             | 50/908 [00:14<04:16,  3.34it/s]\n",
      "Fetching tracks:  11%|███████                                                         | 100/908 [00:26<07:06,  1.89it/s]\n",
      "Fetching tracks:  17%|██████████▌                                                     | 150/908 [00:14<03:40,  3.44it/s]\n",
      "Fetching tracks:  22%|██████████████                                                  | 200/908 [00:17<04:04,  2.89it/s]\n",
      "Fetching tracks:  28%|█████████████████▌                                              | 250/908 [00:15<03:17,  3.33it/s]\n",
      "Fetching tracks:  33%|█████████████████████▏                                          | 300/908 [00:37<07:30,  1.35it/s]\n",
      "Fetching tracks:  39%|████████████████████████▋                                       | 350/908 [00:26<04:57,  1.87it/s]\n",
      "Fetching tracks:  44%|████████████████████████████▏                                   | 400/908 [00:14<02:27,  3.45it/s]\n",
      "Fetching tracks:  50%|███████████████████████████████▋                                | 450/908 [00:16<02:31,  3.02it/s]\n",
      "Fetching tracks:  55%|███████████████████████████████████▏                            | 500/908 [00:16<02:12,  3.08it/s]\n",
      "Fetching tracks:  61%|██████████████████████████████████████▊                         | 550/908 [00:14<01:42,  3.48it/s]\n",
      "Fetching tracks:  66%|██████████████████████████████████████████▎                     | 600/908 [00:16<01:40,  3.07it/s]\n",
      "Fetching tracks:  72%|█████████████████████████████████████████████▊                  | 650/908 [00:18<01:34,  2.72it/s]\n",
      "Fetching tracks:  77%|█████████████████████████████████████████████████▎              | 700/908 [00:13<00:56,  3.68it/s]\n",
      "Fetching tracks:  83%|████████████████████████████████████████████████████▊           | 750/908 [00:13<00:43,  3.67it/s]\n",
      "Fetching tracks:  88%|████████████████████████████████████████████████████████▍       | 800/908 [00:16<00:34,  3.09it/s]\n",
      "Fetching tracks:  94%|███████████████████████████████████████████████████████████▉    | 850/908 [00:18<00:21,  2.68it/s]\n",
      "Fetching tracks:  99%|███████████████████████████████████████████████████████████████▍| 900/908 [00:18<00:03,  2.67it/s]\n",
      "Fetching tracks: 100%|████████████████████████████████████████████████████████████████| 908/908 [00:02<00:00,  3.93it/s]"
     ]
    },
    {
     "name": "stdout",
     "output_type": "stream",
     "text": [
      "Your Spotify tracks have been saved to 'spotify_tracks.csv'\n"
     ]
    },
    {
     "name": "stderr",
     "output_type": "stream",
     "text": [
      "\n"
     ]
    }
   ],
   "source": [
    "import os\n",
    "import glob\n",
    "import csv\n",
    "import spotipy\n",
    "import spotipy.util as util\n",
    "from tqdm import tqdm\n",
    "\n",
    "def append_dict_to_csv(filename, data_dict):\n",
    "    file_exists = os.path.isfile(filename)\n",
    "    fieldnames = data_dict.keys()\n",
    "\n",
    "    with open(filename, mode='a', newline='') as csvfile:\n",
    "        writer = csv.DictWriter(csvfile, fieldnames=fieldnames)\n",
    "\n",
    "        if not file_exists:\n",
    "            writer.writeheader()\n",
    "\n",
    "        writer.writerow(data_dict)\n",
    "        \n",
    "def get_tracks(scope, client_id, client_secret, redirect_uri, user_id):\n",
    "    for file in glob.glob(\".cache*\"):\n",
    "        os.remove(file) \n",
    "    token = util.prompt_for_user_token(\n",
    "                                   scope=scope,\n",
    "                                   client_id=client_id,\n",
    "                                   client_secret=client_secret,\n",
    "                                   redirect_uri=redirect_uri)\n",
    "    \n",
    "#     print(token)\n",
    "    if token:\n",
    "        sp = spotipy.Spotify(auth=token)\n",
    "\n",
    "        track_data = []\n",
    "        offset = 0\n",
    "        limit = 50\n",
    "\n",
    "        filename = f'spotify_tracks_{user_id}.csv'\n",
    "        if os.path.exists(filename):\n",
    "            os.remove(filename)\n",
    "\n",
    "        while True:\n",
    "            results = sp.current_user_saved_tracks(limit=limit, offset=offset)\n",
    "            total_tracks = results['total']\n",
    "            if not results['items']:\n",
    "                break\n",
    "            \n",
    "            for item in tqdm(results['items'], total = total_tracks, initial = offset, desc = \"Fetching tracks\"):\n",
    "                try:\n",
    "                    track = item['track']\n",
    "                    album = sp.album(track['album']['id'])\n",
    "                    artist = sp.artist(track['artists'][0]['id'])\n",
    "                    audio_features = sp.audio_features([track['id']])[0]\n",
    "\n",
    "                    metadata = {\n",
    "                        'user_id':user_id,\n",
    "                        'id': track['id'],\n",
    "                        'name': track['name'],\n",
    "                        'artist': track['artists'][0]['name'],\n",
    "                        'album': track['album']['name'],\n",
    "                        'release_date': track['album']['release_date'],\n",
    "                        'popularity': track['popularity'],\n",
    "                        'duration_ms': track['duration_ms'],\n",
    "                        'explicit': track['explicit'],\n",
    "                        'uri': track['uri'],\n",
    "                        'album_genre': album['genres'][0] if album['genres'] else 'Unknown',\n",
    "                        'artist_genre': artist['genres'][0] if artist['genres'] else 'Unknown'\n",
    "                    }\n",
    "\n",
    "                    metadata.update(audio_features)\n",
    "                    track_data.append(metadata)\n",
    "\n",
    "                    append_dict_to_csv(filename, metadata)\n",
    "                except:\n",
    "                    pass\n",
    "\n",
    "            offset += limit\n",
    "\n",
    "        return track_data\n",
    "    else:\n",
    "        return (\"Can't get token for\", username)\n",
    "\n",
    "# username = '224hap4se67crjr4hva6nz74y'\n",
    "scope = 'user-library-read'\n",
    "client_id='7866736c94034da2aaec88deaa8a46aa'\n",
    "client_secret='91857a08e34b457b8ff6d72f3c967d06'\n",
    "redirect_uri='http://localhost/'\n",
    "user_id = 'ethan'\n",
    "tracks = get_tracks(scope, client_id, client_secret, redirect_uri, user_id)\n",
    "print(\"Your Spotify tracks have been saved to 'spotify_tracks.csv'\")"
   ]
  },
  {
   "cell_type": "code",
   "execution_count": null,
   "id": "6317543e",
   "metadata": {},
   "outputs": [],
   "source": []
  }
 ],
 "metadata": {
  "kernelspec": {
   "display_name": "Python 3 (ipykernel)",
   "language": "python",
   "name": "python3"
  },
  "language_info": {
   "codemirror_mode": {
    "name": "ipython",
    "version": 3
   },
   "file_extension": ".py",
   "mimetype": "text/x-python",
   "name": "python",
   "nbconvert_exporter": "python",
   "pygments_lexer": "ipython3",
   "version": "3.8.10"
  }
 },
 "nbformat": 4,
 "nbformat_minor": 5
}
