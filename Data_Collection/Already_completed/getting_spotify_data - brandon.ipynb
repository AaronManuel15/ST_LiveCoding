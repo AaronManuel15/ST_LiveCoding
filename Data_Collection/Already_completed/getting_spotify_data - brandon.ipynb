{
 "cells": [
  {
   "cell_type": "code",
   "execution_count": 1,
   "id": "970335ae",
   "metadata": {},
   "outputs": [
    {
     "name": "stderr",
     "output_type": "stream",
     "text": [
      "Using `localhost` as redirect URI without a port. Specify a port (e.g. `localhost:8080`) to allow automatic retrieval of authentication code instead of having to copy and paste the URL your browser is redirected to.\n"
     ]
    },
    {
     "name": "stdout",
     "output_type": "stream",
     "text": [
      "Enter the URL you were redirected to: http://localhost/?code=AQAd7eKJxZ2WIlJvkpYc2vzQXbGOSO5Msn5IxVGGIiuaglFYnT2JUlqPTG0TP1hFnW2MzQVGujezWR6NoYxrP2zKBkp3Wsi4uiTFoma7RMUJi_S3iwzximI8mOYY8KycExrvZ_xWiAEDwzco49_soX7va2WCu1JQWyCcxO7FafoYeVCW29t6Dg\n"
     ]
    },
    {
     "name": "stderr",
     "output_type": "stream",
     "text": [
      "Fetching tracks: 100%|██████████████████████████████████████████████████████████████████| 26/26 [00:07<00:00,  3.36it/s]"
     ]
    },
    {
     "name": "stdout",
     "output_type": "stream",
     "text": [
      "Your Spotify tracks have been saved to 'spotify_tracks.csv'\n"
     ]
    },
    {
     "name": "stderr",
     "output_type": "stream",
     "text": [
      "\n"
     ]
    }
   ],
   "source": [
    "import os\n",
    "import glob\n",
    "import csv\n",
    "import spotipy\n",
    "import spotipy.util as util\n",
    "from tqdm import tqdm\n",
    "\n",
    "def append_dict_to_csv(filename, data_dict):\n",
    "    file_exists = os.path.isfile(filename)\n",
    "    fieldnames = data_dict.keys()\n",
    "\n",
    "    with open(filename, mode='a', newline='') as csvfile:\n",
    "        writer = csv.DictWriter(csvfile, fieldnames=fieldnames)\n",
    "\n",
    "        if not file_exists:\n",
    "            writer.writeheader()\n",
    "\n",
    "        writer.writerow(data_dict)\n",
    "        \n",
    "def get_tracks(scope, client_id, client_secret, redirect_uri, user_id):\n",
    "    for file in glob.glob(\".cache*\"):\n",
    "        os.remove(file) \n",
    "    token = util.prompt_for_user_token(\n",
    "                                   scope=scope,\n",
    "                                   client_id=client_id,\n",
    "                                   client_secret=client_secret,\n",
    "                                   redirect_uri=redirect_uri)\n",
    "    \n",
    "#     print(token)\n",
    "    if token:\n",
    "        sp = spotipy.Spotify(auth=token)\n",
    "\n",
    "        track_data = []\n",
    "        offset = 0\n",
    "        limit = 50\n",
    "\n",
    "        filename = f'spotify_tracks_{user_id}.csv'\n",
    "        if os.path.exists(filename):\n",
    "            os.remove(filename)\n",
    "\n",
    "        while True:\n",
    "            results = sp.current_user_saved_tracks(limit=limit, offset=offset)\n",
    "            total_tracks = results['total']\n",
    "            if not results['items']:\n",
    "                break\n",
    "            \n",
    "            for item in tqdm(results['items'], total = total_tracks, initial = offset, desc = \"Fetching tracks\"):\n",
    "                try:\n",
    "                    track = item['track']\n",
    "                    album = sp.album(track['album']['id'])\n",
    "                    artist = sp.artist(track['artists'][0]['id'])\n",
    "                    audio_features = sp.audio_features([track['id']])[0]\n",
    "\n",
    "                    metadata = {\n",
    "                        'user_id':user_id,\n",
    "                        'id': track['id'],\n",
    "                        'name': track['name'],\n",
    "                        'artist': track['artists'][0]['name'],\n",
    "                        'album': track['album']['name'],\n",
    "                        'release_date': track['album']['release_date'],\n",
    "                        'popularity': track['popularity'],\n",
    "                        'duration_ms': track['duration_ms'],\n",
    "                        'explicit': track['explicit'],\n",
    "                        'uri': track['uri'],\n",
    "                        'album_genre': album['genres'][0] if album['genres'] else 'Unknown',\n",
    "                        'artist_genre': artist['genres'][0] if artist['genres'] else 'Unknown'\n",
    "                    }\n",
    "\n",
    "                    metadata.update(audio_features)\n",
    "                    track_data.append(metadata)\n",
    "\n",
    "                    append_dict_to_csv(filename, metadata)\n",
    "                except:\n",
    "                    pass\n",
    "\n",
    "            offset += limit\n",
    "\n",
    "        return track_data\n",
    "    else:\n",
    "        return (\"Can't get token for\", username)\n",
    "\n",
    "# username = '224hap4se67crjr4hva6nz74y'\n",
    "scope = 'user-library-read'\n",
    "client_id='7866736c94034da2aaec88deaa8a46aa'\n",
    "client_secret='91857a08e34b457b8ff6d72f3c967d06'\n",
    "redirect_uri='http://localhost/'\n",
    "user_id = 'brandon'\n",
    "tracks = get_tracks(scope, client_id, client_secret, redirect_uri, user_id)\n",
    "print(\"Your Spotify tracks have been saved to 'spotify_tracks.csv'\")"
   ]
  },
  {
   "cell_type": "code",
   "execution_count": null,
   "id": "6317543e",
   "metadata": {},
   "outputs": [],
   "source": []
  }
 ],
 "metadata": {
  "kernelspec": {
   "display_name": "Python 3 (ipykernel)",
   "language": "python",
   "name": "python3"
  },
  "language_info": {
   "codemirror_mode": {
    "name": "ipython",
    "version": 3
   },
   "file_extension": ".py",
   "mimetype": "text/x-python",
   "name": "python",
   "nbconvert_exporter": "python",
   "pygments_lexer": "ipython3",
   "version": "3.8.10"
  }
 },
 "nbformat": 4,
 "nbformat_minor": 5
}
